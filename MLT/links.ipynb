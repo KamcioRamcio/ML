{
 "cells": [
  {
   "metadata": {},
   "cell_type": "code",
   "outputs": [],
   "execution_count": null,
   "source": "",
   "id": "feffbaa5d9de4953"
  },
  {
   "metadata": {},
   "cell_type": "markdown",
   "source": [
    "$$\n",
    "\\text{Random Forest}\n",
    "$$\n",
    "- https://www.kaggle.com/code/prashant111/random-forest-classifier-tutorial\n",
    "- https://scikit-learn.org/1.6/modules/generated/sklearn.ensemble.RandomForestRegressor.html\n",
    "\n",
    "<div style=\"text-align: left;\">\n",
    "\n",
    "### Decision Trees Limitations\n",
    "\n",
    "Deep trees with many leaves tend to **overfit** because predictions are based on limited historical data from just a few houses at each leaf.\n",
    "\n",
    "However, shallow trees with few leaves **underfit** by failing to capture important distinctions in the raw data.\n",
    "\n",
    "### The Overfitting-Underfitting Tradeoff\n",
    "\n",
    "Even advanced modeling techniques struggle with balancing underfitting and overfitting. Many modern models employ clever strategies to improve performance.\n",
    "\n",
    "### Random Forests Solution\n",
    "\n",
    "Random forests address this by:\n",
    "- Using **multiple decision trees**\n",
    "- Making predictions through **ensemble averaging**\n",
    "Key advantages:\n",
    "1. Better predictive accuracy than single trees\n",
    "2. Robust performance with default parameters\n",
    "\n",
    "### Advanced Models Note\n",
    "\n",
    "While more sophisticated models exist, many require careful parameter tuning to achieve optimal performance.\n",
    "\n",
    "</div>"
   ],
   "id": "5ab70945ced4cf4c"
  }
 ],
 "metadata": {
  "kernelspec": {
   "display_name": "Python 3",
   "language": "python",
   "name": "python3"
  },
  "language_info": {
   "codemirror_mode": {
    "name": "ipython",
    "version": 2
   },
   "file_extension": ".py",
   "mimetype": "text/x-python",
   "name": "python",
   "nbconvert_exporter": "python",
   "pygments_lexer": "ipython2",
   "version": "2.7.6"
  }
 },
 "nbformat": 4,
 "nbformat_minor": 5
}
