{
 "cells": [
  {
   "cell_type": "code",
   "id": "initial_id",
   "metadata": {
    "collapsed": true,
    "ExecuteTime": {
     "end_time": "2025-01-31T10:24:19.322448Z",
     "start_time": "2025-01-31T10:24:18.161295Z"
    }
   },
   "source": [
    "import tensorflow as tf\n",
    "import numpy as np\n",
    "import pandas as pd\n",
    "import seaborn as sns\n",
    "import matplotlib.pyplot as plt\n",
    "from pandas.core.common import random_state\n",
    "from sklearn.compose import ColumnTransformer\n",
    "from sklearn.pipeline import Pipeline\n",
    "from sklearn.preprocessing import LabelEncoder, OneHotEncoder, StandardScaler\n",
    "from sklearn.model_selection import train_test_split\n",
    "from sklearn.linear_model import LinearRegression\n",
    "from sklearn.metrics import mean_squared_error, f1_score, recall_score\n",
    "from sklearn.ensemble import RandomForestRegressor, RandomForestClassifier\n",
    "from xgboost import XGBClassifier\n",
    "\n",
    "print(\"Num GPUs Available: \", len(tf.config.list_physical_devices('GPU')))"
   ],
   "outputs": [
    {
     "name": "stderr",
     "output_type": "stream",
     "text": [
      "2025-01-31 10:24:18.247263: I tensorflow/core/util/port.cc:153] oneDNN custom operations are on. You may see slightly different numerical results due to floating-point round-off errors from different computation orders. To turn them off, set the environment variable `TF_ENABLE_ONEDNN_OPTS=0`.\n",
      "2025-01-31 10:24:18.254968: E external/local_xla/xla/stream_executor/cuda/cuda_fft.cc:477] Unable to register cuFFT factory: Attempting to register factory for plugin cuFFT when one has already been registered\n",
      "WARNING: All log messages before absl::InitializeLog() is called are written to STDERR\n",
      "E0000 00:00:1738319058.264251   24950 cuda_dnn.cc:8310] Unable to register cuDNN factory: Attempting to register factory for plugin cuDNN when one has already been registered\n",
      "E0000 00:00:1738319058.266963   24950 cuda_blas.cc:1418] Unable to register cuBLAS factory: Attempting to register factory for plugin cuBLAS when one has already been registered\n",
      "2025-01-31 10:24:18.276309: I tensorflow/core/platform/cpu_feature_guard.cc:210] This TensorFlow binary is optimized to use available CPU instructions in performance-critical operations.\n",
      "To enable the following instructions: AVX2 AVX_VNNI FMA, in other operations, rebuild TensorFlow with the appropriate compiler flags.\n"
     ]
    },
    {
     "name": "stdout",
     "output_type": "stream",
     "text": [
      "Num GPUs Available:  1\n"
     ]
    }
   ],
   "execution_count": 2
  },
  {
   "metadata": {
    "ExecuteTime": {
     "end_time": "2025-01-31T10:24:20.001317Z",
     "start_time": "2025-01-31T10:24:19.980709Z"
    }
   },
   "cell_type": "code",
   "source": [
    "df_train = pd.read_csv('../kagle_data/spaceship/train.csv')\n",
    "df_test = pd.read_csv('../kagle_data/spaceship/test.csv')"
   ],
   "id": "826a47650b14c075",
   "outputs": [],
   "execution_count": 3
  },
  {
   "metadata": {
    "ExecuteTime": {
     "end_time": "2025-01-31T09:33:22.780123Z",
     "start_time": "2025-01-31T09:33:22.772034Z"
    }
   },
   "cell_type": "code",
   "source": "df_train",
   "id": "d7c8b14a3261174b",
   "outputs": [
    {
     "data": {
      "text/plain": [
       "     PassengerId HomePlanet CryoSleep     Cabin    Destination   Age    VIP  \\\n",
       "0        0001_01     Europa     False     B/0/P    TRAPPIST-1e  39.0  False   \n",
       "1        0002_01      Earth     False     F/0/S    TRAPPIST-1e  24.0  False   \n",
       "2        0003_01     Europa     False     A/0/S    TRAPPIST-1e  58.0   True   \n",
       "3        0003_02     Europa     False     A/0/S    TRAPPIST-1e  33.0  False   \n",
       "4        0004_01      Earth     False     F/1/S    TRAPPIST-1e  16.0  False   \n",
       "...          ...        ...       ...       ...            ...   ...    ...   \n",
       "8688     9276_01     Europa     False    A/98/P    55 Cancri e  41.0   True   \n",
       "8689     9278_01      Earth      True  G/1499/S  PSO J318.5-22  18.0  False   \n",
       "8690     9279_01      Earth     False  G/1500/S    TRAPPIST-1e  26.0  False   \n",
       "8691     9280_01     Europa     False   E/608/S    55 Cancri e  32.0  False   \n",
       "8692     9280_02     Europa     False   E/608/S    TRAPPIST-1e  44.0  False   \n",
       "\n",
       "      RoomService  FoodCourt  ShoppingMall     Spa  VRDeck               Name  \\\n",
       "0             0.0        0.0           0.0     0.0     0.0    Maham Ofracculy   \n",
       "1           109.0        9.0          25.0   549.0    44.0       Juanna Vines   \n",
       "2            43.0     3576.0           0.0  6715.0    49.0      Altark Susent   \n",
       "3             0.0     1283.0         371.0  3329.0   193.0       Solam Susent   \n",
       "4           303.0       70.0         151.0   565.0     2.0  Willy Santantines   \n",
       "...           ...        ...           ...     ...     ...                ...   \n",
       "8688          0.0     6819.0           0.0  1643.0    74.0  Gravior Noxnuther   \n",
       "8689          0.0        0.0           0.0     0.0     0.0    Kurta Mondalley   \n",
       "8690          0.0        0.0        1872.0     1.0     0.0       Fayey Connon   \n",
       "8691          0.0     1049.0           0.0   353.0  3235.0   Celeon Hontichre   \n",
       "8692        126.0     4688.0           0.0     0.0    12.0   Propsh Hontichre   \n",
       "\n",
       "      Transported  \n",
       "0           False  \n",
       "1            True  \n",
       "2           False  \n",
       "3           False  \n",
       "4            True  \n",
       "...           ...  \n",
       "8688        False  \n",
       "8689        False  \n",
       "8690         True  \n",
       "8691        False  \n",
       "8692         True  \n",
       "\n",
       "[8693 rows x 14 columns]"
      ],
      "text/html": [
       "<div>\n",
       "<style scoped>\n",
       "    .dataframe tbody tr th:only-of-type {\n",
       "        vertical-align: middle;\n",
       "    }\n",
       "\n",
       "    .dataframe tbody tr th {\n",
       "        vertical-align: top;\n",
       "    }\n",
       "\n",
       "    .dataframe thead th {\n",
       "        text-align: right;\n",
       "    }\n",
       "</style>\n",
       "<table border=\"1\" class=\"dataframe\">\n",
       "  <thead>\n",
       "    <tr style=\"text-align: right;\">\n",
       "      <th></th>\n",
       "      <th>PassengerId</th>\n",
       "      <th>HomePlanet</th>\n",
       "      <th>CryoSleep</th>\n",
       "      <th>Cabin</th>\n",
       "      <th>Destination</th>\n",
       "      <th>Age</th>\n",
       "      <th>VIP</th>\n",
       "      <th>RoomService</th>\n",
       "      <th>FoodCourt</th>\n",
       "      <th>ShoppingMall</th>\n",
       "      <th>Spa</th>\n",
       "      <th>VRDeck</th>\n",
       "      <th>Name</th>\n",
       "      <th>Transported</th>\n",
       "    </tr>\n",
       "  </thead>\n",
       "  <tbody>\n",
       "    <tr>\n",
       "      <th>0</th>\n",
       "      <td>0001_01</td>\n",
       "      <td>Europa</td>\n",
       "      <td>False</td>\n",
       "      <td>B/0/P</td>\n",
       "      <td>TRAPPIST-1e</td>\n",
       "      <td>39.0</td>\n",
       "      <td>False</td>\n",
       "      <td>0.0</td>\n",
       "      <td>0.0</td>\n",
       "      <td>0.0</td>\n",
       "      <td>0.0</td>\n",
       "      <td>0.0</td>\n",
       "      <td>Maham Ofracculy</td>\n",
       "      <td>False</td>\n",
       "    </tr>\n",
       "    <tr>\n",
       "      <th>1</th>\n",
       "      <td>0002_01</td>\n",
       "      <td>Earth</td>\n",
       "      <td>False</td>\n",
       "      <td>F/0/S</td>\n",
       "      <td>TRAPPIST-1e</td>\n",
       "      <td>24.0</td>\n",
       "      <td>False</td>\n",
       "      <td>109.0</td>\n",
       "      <td>9.0</td>\n",
       "      <td>25.0</td>\n",
       "      <td>549.0</td>\n",
       "      <td>44.0</td>\n",
       "      <td>Juanna Vines</td>\n",
       "      <td>True</td>\n",
       "    </tr>\n",
       "    <tr>\n",
       "      <th>2</th>\n",
       "      <td>0003_01</td>\n",
       "      <td>Europa</td>\n",
       "      <td>False</td>\n",
       "      <td>A/0/S</td>\n",
       "      <td>TRAPPIST-1e</td>\n",
       "      <td>58.0</td>\n",
       "      <td>True</td>\n",
       "      <td>43.0</td>\n",
       "      <td>3576.0</td>\n",
       "      <td>0.0</td>\n",
       "      <td>6715.0</td>\n",
       "      <td>49.0</td>\n",
       "      <td>Altark Susent</td>\n",
       "      <td>False</td>\n",
       "    </tr>\n",
       "    <tr>\n",
       "      <th>3</th>\n",
       "      <td>0003_02</td>\n",
       "      <td>Europa</td>\n",
       "      <td>False</td>\n",
       "      <td>A/0/S</td>\n",
       "      <td>TRAPPIST-1e</td>\n",
       "      <td>33.0</td>\n",
       "      <td>False</td>\n",
       "      <td>0.0</td>\n",
       "      <td>1283.0</td>\n",
       "      <td>371.0</td>\n",
       "      <td>3329.0</td>\n",
       "      <td>193.0</td>\n",
       "      <td>Solam Susent</td>\n",
       "      <td>False</td>\n",
       "    </tr>\n",
       "    <tr>\n",
       "      <th>4</th>\n",
       "      <td>0004_01</td>\n",
       "      <td>Earth</td>\n",
       "      <td>False</td>\n",
       "      <td>F/1/S</td>\n",
       "      <td>TRAPPIST-1e</td>\n",
       "      <td>16.0</td>\n",
       "      <td>False</td>\n",
       "      <td>303.0</td>\n",
       "      <td>70.0</td>\n",
       "      <td>151.0</td>\n",
       "      <td>565.0</td>\n",
       "      <td>2.0</td>\n",
       "      <td>Willy Santantines</td>\n",
       "      <td>True</td>\n",
       "    </tr>\n",
       "    <tr>\n",
       "      <th>...</th>\n",
       "      <td>...</td>\n",
       "      <td>...</td>\n",
       "      <td>...</td>\n",
       "      <td>...</td>\n",
       "      <td>...</td>\n",
       "      <td>...</td>\n",
       "      <td>...</td>\n",
       "      <td>...</td>\n",
       "      <td>...</td>\n",
       "      <td>...</td>\n",
       "      <td>...</td>\n",
       "      <td>...</td>\n",
       "      <td>...</td>\n",
       "      <td>...</td>\n",
       "    </tr>\n",
       "    <tr>\n",
       "      <th>8688</th>\n",
       "      <td>9276_01</td>\n",
       "      <td>Europa</td>\n",
       "      <td>False</td>\n",
       "      <td>A/98/P</td>\n",
       "      <td>55 Cancri e</td>\n",
       "      <td>41.0</td>\n",
       "      <td>True</td>\n",
       "      <td>0.0</td>\n",
       "      <td>6819.0</td>\n",
       "      <td>0.0</td>\n",
       "      <td>1643.0</td>\n",
       "      <td>74.0</td>\n",
       "      <td>Gravior Noxnuther</td>\n",
       "      <td>False</td>\n",
       "    </tr>\n",
       "    <tr>\n",
       "      <th>8689</th>\n",
       "      <td>9278_01</td>\n",
       "      <td>Earth</td>\n",
       "      <td>True</td>\n",
       "      <td>G/1499/S</td>\n",
       "      <td>PSO J318.5-22</td>\n",
       "      <td>18.0</td>\n",
       "      <td>False</td>\n",
       "      <td>0.0</td>\n",
       "      <td>0.0</td>\n",
       "      <td>0.0</td>\n",
       "      <td>0.0</td>\n",
       "      <td>0.0</td>\n",
       "      <td>Kurta Mondalley</td>\n",
       "      <td>False</td>\n",
       "    </tr>\n",
       "    <tr>\n",
       "      <th>8690</th>\n",
       "      <td>9279_01</td>\n",
       "      <td>Earth</td>\n",
       "      <td>False</td>\n",
       "      <td>G/1500/S</td>\n",
       "      <td>TRAPPIST-1e</td>\n",
       "      <td>26.0</td>\n",
       "      <td>False</td>\n",
       "      <td>0.0</td>\n",
       "      <td>0.0</td>\n",
       "      <td>1872.0</td>\n",
       "      <td>1.0</td>\n",
       "      <td>0.0</td>\n",
       "      <td>Fayey Connon</td>\n",
       "      <td>True</td>\n",
       "    </tr>\n",
       "    <tr>\n",
       "      <th>8691</th>\n",
       "      <td>9280_01</td>\n",
       "      <td>Europa</td>\n",
       "      <td>False</td>\n",
       "      <td>E/608/S</td>\n",
       "      <td>55 Cancri e</td>\n",
       "      <td>32.0</td>\n",
       "      <td>False</td>\n",
       "      <td>0.0</td>\n",
       "      <td>1049.0</td>\n",
       "      <td>0.0</td>\n",
       "      <td>353.0</td>\n",
       "      <td>3235.0</td>\n",
       "      <td>Celeon Hontichre</td>\n",
       "      <td>False</td>\n",
       "    </tr>\n",
       "    <tr>\n",
       "      <th>8692</th>\n",
       "      <td>9280_02</td>\n",
       "      <td>Europa</td>\n",
       "      <td>False</td>\n",
       "      <td>E/608/S</td>\n",
       "      <td>TRAPPIST-1e</td>\n",
       "      <td>44.0</td>\n",
       "      <td>False</td>\n",
       "      <td>126.0</td>\n",
       "      <td>4688.0</td>\n",
       "      <td>0.0</td>\n",
       "      <td>0.0</td>\n",
       "      <td>12.0</td>\n",
       "      <td>Propsh Hontichre</td>\n",
       "      <td>True</td>\n",
       "    </tr>\n",
       "  </tbody>\n",
       "</table>\n",
       "<p>8693 rows × 14 columns</p>\n",
       "</div>"
      ]
     },
     "execution_count": 43,
     "metadata": {},
     "output_type": "execute_result"
    }
   ],
   "execution_count": 43
  },
  {
   "metadata": {
    "ExecuteTime": {
     "end_time": "2025-01-31T09:33:23.397208Z",
     "start_time": "2025-01-31T09:33:23.390801Z"
    }
   },
   "cell_type": "code",
   "source": "df_train.info()",
   "id": "ad5131733772e7c9",
   "outputs": [
    {
     "name": "stdout",
     "output_type": "stream",
     "text": [
      "<class 'pandas.core.frame.DataFrame'>\n",
      "RangeIndex: 8693 entries, 0 to 8692\n",
      "Data columns (total 14 columns):\n",
      " #   Column        Non-Null Count  Dtype  \n",
      "---  ------        --------------  -----  \n",
      " 0   PassengerId   8693 non-null   object \n",
      " 1   HomePlanet    8492 non-null   object \n",
      " 2   CryoSleep     8476 non-null   object \n",
      " 3   Cabin         8494 non-null   object \n",
      " 4   Destination   8511 non-null   object \n",
      " 5   Age           8514 non-null   float64\n",
      " 6   VIP           8490 non-null   object \n",
      " 7   RoomService   8512 non-null   float64\n",
      " 8   FoodCourt     8510 non-null   float64\n",
      " 9   ShoppingMall  8485 non-null   float64\n",
      " 10  Spa           8510 non-null   float64\n",
      " 11  VRDeck        8505 non-null   float64\n",
      " 12  Name          8493 non-null   object \n",
      " 13  Transported   8693 non-null   bool   \n",
      "dtypes: bool(1), float64(6), object(7)\n",
      "memory usage: 891.5+ KB\n"
     ]
    }
   ],
   "execution_count": 44
  },
  {
   "metadata": {},
   "cell_type": "markdown",
   "source": "VIP missing data might have some correlation with the amount the passengers has billed at each of the: RoomService, FoodCourt, ShoppingMall, Spa, VRDeck",
   "id": "10f6360722dd889b"
  },
  {
   "metadata": {
    "ExecuteTime": {
     "end_time": "2025-01-31T09:33:24.735112Z",
     "start_time": "2025-01-31T09:33:24.731461Z"
    }
   },
   "cell_type": "code",
   "source": "crm = df_train[['VIP', 'Transported']].dropna().astype(int).copy()",
   "id": "c8ae447f42a3bec",
   "outputs": [],
   "execution_count": 45
  },
  {
   "metadata": {
    "ExecuteTime": {
     "end_time": "2025-01-31T09:33:25.290673Z",
     "start_time": "2025-01-31T09:33:25.286985Z"
    }
   },
   "cell_type": "code",
   "source": "crm.head()",
   "id": "68cf463e7fd02b22",
   "outputs": [
    {
     "data": {
      "text/plain": [
       "   VIP  Transported\n",
       "0    0            0\n",
       "1    0            1\n",
       "2    1            0\n",
       "3    0            0\n",
       "4    0            1"
      ],
      "text/html": [
       "<div>\n",
       "<style scoped>\n",
       "    .dataframe tbody tr th:only-of-type {\n",
       "        vertical-align: middle;\n",
       "    }\n",
       "\n",
       "    .dataframe tbody tr th {\n",
       "        vertical-align: top;\n",
       "    }\n",
       "\n",
       "    .dataframe thead th {\n",
       "        text-align: right;\n",
       "    }\n",
       "</style>\n",
       "<table border=\"1\" class=\"dataframe\">\n",
       "  <thead>\n",
       "    <tr style=\"text-align: right;\">\n",
       "      <th></th>\n",
       "      <th>VIP</th>\n",
       "      <th>Transported</th>\n",
       "    </tr>\n",
       "  </thead>\n",
       "  <tbody>\n",
       "    <tr>\n",
       "      <th>0</th>\n",
       "      <td>0</td>\n",
       "      <td>0</td>\n",
       "    </tr>\n",
       "    <tr>\n",
       "      <th>1</th>\n",
       "      <td>0</td>\n",
       "      <td>1</td>\n",
       "    </tr>\n",
       "    <tr>\n",
       "      <th>2</th>\n",
       "      <td>1</td>\n",
       "      <td>0</td>\n",
       "    </tr>\n",
       "    <tr>\n",
       "      <th>3</th>\n",
       "      <td>0</td>\n",
       "      <td>0</td>\n",
       "    </tr>\n",
       "    <tr>\n",
       "      <th>4</th>\n",
       "      <td>0</td>\n",
       "      <td>1</td>\n",
       "    </tr>\n",
       "  </tbody>\n",
       "</table>\n",
       "</div>"
      ]
     },
     "execution_count": 46,
     "metadata": {},
     "output_type": "execute_result"
    }
   ],
   "execution_count": 46
  },
  {
   "metadata": {
    "ExecuteTime": {
     "end_time": "2025-01-31T09:33:25.961005Z",
     "start_time": "2025-01-31T09:33:25.956616Z"
    }
   },
   "cell_type": "code",
   "source": [
    "corr_matrix = crm.corr()\n",
    "corr_matrix"
   ],
   "id": "a7b2f02914b31de",
   "outputs": [
    {
     "data": {
      "text/plain": [
       "                 VIP  Transported\n",
       "VIP          1.00000     -0.03765\n",
       "Transported -0.03765      1.00000"
      ],
      "text/html": [
       "<div>\n",
       "<style scoped>\n",
       "    .dataframe tbody tr th:only-of-type {\n",
       "        vertical-align: middle;\n",
       "    }\n",
       "\n",
       "    .dataframe tbody tr th {\n",
       "        vertical-align: top;\n",
       "    }\n",
       "\n",
       "    .dataframe thead th {\n",
       "        text-align: right;\n",
       "    }\n",
       "</style>\n",
       "<table border=\"1\" class=\"dataframe\">\n",
       "  <thead>\n",
       "    <tr style=\"text-align: right;\">\n",
       "      <th></th>\n",
       "      <th>VIP</th>\n",
       "      <th>Transported</th>\n",
       "    </tr>\n",
       "  </thead>\n",
       "  <tbody>\n",
       "    <tr>\n",
       "      <th>VIP</th>\n",
       "      <td>1.00000</td>\n",
       "      <td>-0.03765</td>\n",
       "    </tr>\n",
       "    <tr>\n",
       "      <th>Transported</th>\n",
       "      <td>-0.03765</td>\n",
       "      <td>1.00000</td>\n",
       "    </tr>\n",
       "  </tbody>\n",
       "</table>\n",
       "</div>"
      ]
     },
     "execution_count": 47,
     "metadata": {},
     "output_type": "execute_result"
    }
   ],
   "execution_count": 47
  },
  {
   "metadata": {
    "ExecuteTime": {
     "end_time": "2025-01-31T09:33:26.590932Z",
     "start_time": "2025-01-31T09:33:26.586278Z"
    }
   },
   "cell_type": "code",
   "source": [
    "df_train_dropped_s = df_train.copy()\n",
    "df_train_dropped_s = df_train_dropped_s.drop(['Transported'],axis=1)\n",
    "df_combined = pd.concat([df_train_dropped_s, df_test], ignore_index=True)"
   ],
   "id": "37a3907730a9628c",
   "outputs": [],
   "execution_count": 48
  },
  {
   "metadata": {
    "ExecuteTime": {
     "end_time": "2025-01-31T09:33:27.270442Z",
     "start_time": "2025-01-31T09:33:27.268811Z"
    }
   },
   "cell_type": "code",
   "source": "# df_combined = df_combined.drop(['PassengerId'], axis=1)",
   "id": "ada69b33f5d2a775",
   "outputs": [],
   "execution_count": 49
  },
  {
   "metadata": {
    "ExecuteTime": {
     "end_time": "2025-01-31T09:33:27.929695Z",
     "start_time": "2025-01-31T09:33:27.922020Z"
    }
   },
   "cell_type": "code",
   "source": [
    "vip_null_rows = df_combined[df_combined['VIP'].isnull()]\n",
    "vip_null_rows"
   ],
   "id": "23816752032cca38",
   "outputs": [
    {
     "data": {
      "text/plain": [
       "      PassengerId HomePlanet CryoSleep     Cabin  Destination   Age  VIP  \\\n",
       "38        0036_01      Earth     False     F/8/S  55 Cancri e  15.0  NaN   \n",
       "102       0108_03      Earth     False    G/19/S  TRAPPIST-1e   0.0  NaN   \n",
       "145       0165_01       Mars      True    F/37/P  TRAPPIST-1e  35.0  NaN   \n",
       "228       0244_02       Mars      True    F/47/S  55 Cancri e  14.0  NaN   \n",
       "566       0593_01       Mars     False    D/24/P  TRAPPIST-1e   NaN  NaN   \n",
       "...           ...        ...       ...       ...          ...   ...  ...   \n",
       "12770     8875_02     Europa     False   C/330/S  TRAPPIST-1e  32.0  NaN   \n",
       "12780     8895_01     Europa      True   C/294/P  TRAPPIST-1e  39.0  NaN   \n",
       "12869     9058_01       Mars     False       NaN  TRAPPIST-1e  38.0  NaN   \n",
       "12943     9228_01      Earth     False  F/1887/P  TRAPPIST-1e  21.0  NaN   \n",
       "12960     9260_01      Earth      True  G/1503/P  55 Cancri e   3.0  NaN   \n",
       "\n",
       "       RoomService  FoodCourt  ShoppingMall     Spa  VRDeck               Name  \n",
       "38             0.0      492.0          48.0    20.0   401.0     Marina Leodger  \n",
       "102            0.0        0.0           0.0     0.0     0.0    Oline Handertiz  \n",
       "145            0.0        0.0           0.0     0.0     0.0       Graven Anche  \n",
       "228            0.0        0.0           0.0     0.0     0.0           Tous Sad  \n",
       "566           43.0      152.0         182.0     1.0  2005.0            Hon Kra  \n",
       "...            ...        ...           ...     ...     ...                ...  \n",
       "12770         26.0     1708.0           0.0  3993.0   481.0     Alar Oillicaly  \n",
       "12780          0.0        0.0           0.0     0.0     0.0     Astrak Hossive  \n",
       "12869        784.0        0.0          42.0    38.0    10.0        Hammet Muff  \n",
       "12943        640.0        0.0          21.0     0.0    76.0  Davis Bulliamoses  \n",
       "12960          0.0        0.0           0.0     0.0     0.0  Luisy Portananney  \n",
       "\n",
       "[296 rows x 13 columns]"
      ],
      "text/html": [
       "<div>\n",
       "<style scoped>\n",
       "    .dataframe tbody tr th:only-of-type {\n",
       "        vertical-align: middle;\n",
       "    }\n",
       "\n",
       "    .dataframe tbody tr th {\n",
       "        vertical-align: top;\n",
       "    }\n",
       "\n",
       "    .dataframe thead th {\n",
       "        text-align: right;\n",
       "    }\n",
       "</style>\n",
       "<table border=\"1\" class=\"dataframe\">\n",
       "  <thead>\n",
       "    <tr style=\"text-align: right;\">\n",
       "      <th></th>\n",
       "      <th>PassengerId</th>\n",
       "      <th>HomePlanet</th>\n",
       "      <th>CryoSleep</th>\n",
       "      <th>Cabin</th>\n",
       "      <th>Destination</th>\n",
       "      <th>Age</th>\n",
       "      <th>VIP</th>\n",
       "      <th>RoomService</th>\n",
       "      <th>FoodCourt</th>\n",
       "      <th>ShoppingMall</th>\n",
       "      <th>Spa</th>\n",
       "      <th>VRDeck</th>\n",
       "      <th>Name</th>\n",
       "    </tr>\n",
       "  </thead>\n",
       "  <tbody>\n",
       "    <tr>\n",
       "      <th>38</th>\n",
       "      <td>0036_01</td>\n",
       "      <td>Earth</td>\n",
       "      <td>False</td>\n",
       "      <td>F/8/S</td>\n",
       "      <td>55 Cancri e</td>\n",
       "      <td>15.0</td>\n",
       "      <td>NaN</td>\n",
       "      <td>0.0</td>\n",
       "      <td>492.0</td>\n",
       "      <td>48.0</td>\n",
       "      <td>20.0</td>\n",
       "      <td>401.0</td>\n",
       "      <td>Marina Leodger</td>\n",
       "    </tr>\n",
       "    <tr>\n",
       "      <th>102</th>\n",
       "      <td>0108_03</td>\n",
       "      <td>Earth</td>\n",
       "      <td>False</td>\n",
       "      <td>G/19/S</td>\n",
       "      <td>TRAPPIST-1e</td>\n",
       "      <td>0.0</td>\n",
       "      <td>NaN</td>\n",
       "      <td>0.0</td>\n",
       "      <td>0.0</td>\n",
       "      <td>0.0</td>\n",
       "      <td>0.0</td>\n",
       "      <td>0.0</td>\n",
       "      <td>Oline Handertiz</td>\n",
       "    </tr>\n",
       "    <tr>\n",
       "      <th>145</th>\n",
       "      <td>0165_01</td>\n",
       "      <td>Mars</td>\n",
       "      <td>True</td>\n",
       "      <td>F/37/P</td>\n",
       "      <td>TRAPPIST-1e</td>\n",
       "      <td>35.0</td>\n",
       "      <td>NaN</td>\n",
       "      <td>0.0</td>\n",
       "      <td>0.0</td>\n",
       "      <td>0.0</td>\n",
       "      <td>0.0</td>\n",
       "      <td>0.0</td>\n",
       "      <td>Graven Anche</td>\n",
       "    </tr>\n",
       "    <tr>\n",
       "      <th>228</th>\n",
       "      <td>0244_02</td>\n",
       "      <td>Mars</td>\n",
       "      <td>True</td>\n",
       "      <td>F/47/S</td>\n",
       "      <td>55 Cancri e</td>\n",
       "      <td>14.0</td>\n",
       "      <td>NaN</td>\n",
       "      <td>0.0</td>\n",
       "      <td>0.0</td>\n",
       "      <td>0.0</td>\n",
       "      <td>0.0</td>\n",
       "      <td>0.0</td>\n",
       "      <td>Tous Sad</td>\n",
       "    </tr>\n",
       "    <tr>\n",
       "      <th>566</th>\n",
       "      <td>0593_01</td>\n",
       "      <td>Mars</td>\n",
       "      <td>False</td>\n",
       "      <td>D/24/P</td>\n",
       "      <td>TRAPPIST-1e</td>\n",
       "      <td>NaN</td>\n",
       "      <td>NaN</td>\n",
       "      <td>43.0</td>\n",
       "      <td>152.0</td>\n",
       "      <td>182.0</td>\n",
       "      <td>1.0</td>\n",
       "      <td>2005.0</td>\n",
       "      <td>Hon Kra</td>\n",
       "    </tr>\n",
       "    <tr>\n",
       "      <th>...</th>\n",
       "      <td>...</td>\n",
       "      <td>...</td>\n",
       "      <td>...</td>\n",
       "      <td>...</td>\n",
       "      <td>...</td>\n",
       "      <td>...</td>\n",
       "      <td>...</td>\n",
       "      <td>...</td>\n",
       "      <td>...</td>\n",
       "      <td>...</td>\n",
       "      <td>...</td>\n",
       "      <td>...</td>\n",
       "      <td>...</td>\n",
       "    </tr>\n",
       "    <tr>\n",
       "      <th>12770</th>\n",
       "      <td>8875_02</td>\n",
       "      <td>Europa</td>\n",
       "      <td>False</td>\n",
       "      <td>C/330/S</td>\n",
       "      <td>TRAPPIST-1e</td>\n",
       "      <td>32.0</td>\n",
       "      <td>NaN</td>\n",
       "      <td>26.0</td>\n",
       "      <td>1708.0</td>\n",
       "      <td>0.0</td>\n",
       "      <td>3993.0</td>\n",
       "      <td>481.0</td>\n",
       "      <td>Alar Oillicaly</td>\n",
       "    </tr>\n",
       "    <tr>\n",
       "      <th>12780</th>\n",
       "      <td>8895_01</td>\n",
       "      <td>Europa</td>\n",
       "      <td>True</td>\n",
       "      <td>C/294/P</td>\n",
       "      <td>TRAPPIST-1e</td>\n",
       "      <td>39.0</td>\n",
       "      <td>NaN</td>\n",
       "      <td>0.0</td>\n",
       "      <td>0.0</td>\n",
       "      <td>0.0</td>\n",
       "      <td>0.0</td>\n",
       "      <td>0.0</td>\n",
       "      <td>Astrak Hossive</td>\n",
       "    </tr>\n",
       "    <tr>\n",
       "      <th>12869</th>\n",
       "      <td>9058_01</td>\n",
       "      <td>Mars</td>\n",
       "      <td>False</td>\n",
       "      <td>NaN</td>\n",
       "      <td>TRAPPIST-1e</td>\n",
       "      <td>38.0</td>\n",
       "      <td>NaN</td>\n",
       "      <td>784.0</td>\n",
       "      <td>0.0</td>\n",
       "      <td>42.0</td>\n",
       "      <td>38.0</td>\n",
       "      <td>10.0</td>\n",
       "      <td>Hammet Muff</td>\n",
       "    </tr>\n",
       "    <tr>\n",
       "      <th>12943</th>\n",
       "      <td>9228_01</td>\n",
       "      <td>Earth</td>\n",
       "      <td>False</td>\n",
       "      <td>F/1887/P</td>\n",
       "      <td>TRAPPIST-1e</td>\n",
       "      <td>21.0</td>\n",
       "      <td>NaN</td>\n",
       "      <td>640.0</td>\n",
       "      <td>0.0</td>\n",
       "      <td>21.0</td>\n",
       "      <td>0.0</td>\n",
       "      <td>76.0</td>\n",
       "      <td>Davis Bulliamoses</td>\n",
       "    </tr>\n",
       "    <tr>\n",
       "      <th>12960</th>\n",
       "      <td>9260_01</td>\n",
       "      <td>Earth</td>\n",
       "      <td>True</td>\n",
       "      <td>G/1503/P</td>\n",
       "      <td>55 Cancri e</td>\n",
       "      <td>3.0</td>\n",
       "      <td>NaN</td>\n",
       "      <td>0.0</td>\n",
       "      <td>0.0</td>\n",
       "      <td>0.0</td>\n",
       "      <td>0.0</td>\n",
       "      <td>0.0</td>\n",
       "      <td>Luisy Portananney</td>\n",
       "    </tr>\n",
       "  </tbody>\n",
       "</table>\n",
       "<p>296 rows × 13 columns</p>\n",
       "</div>"
      ]
     },
     "execution_count": 50,
     "metadata": {},
     "output_type": "execute_result"
    }
   ],
   "execution_count": 50
  },
  {
   "metadata": {
    "ExecuteTime": {
     "end_time": "2025-01-31T09:33:28.522808Z",
     "start_time": "2025-01-31T09:33:28.520159Z"
    }
   },
   "cell_type": "code",
   "source": "df_combined['VIP'].unique()",
   "id": "9a62784daf6619cf",
   "outputs": [
    {
     "data": {
      "text/plain": [
       "array([False, True, nan], dtype=object)"
      ]
     },
     "execution_count": 51,
     "metadata": {},
     "output_type": "execute_result"
    }
   ],
   "execution_count": 51
  },
  {
   "metadata": {
    "ExecuteTime": {
     "end_time": "2025-01-31T09:33:29.071172Z",
     "start_time": "2025-01-31T09:33:29.066087Z"
    }
   },
   "cell_type": "code",
   "source": [
    "vip_df = df_combined.dropna(subset=['VIP', 'RoomService', 'FoodCourt', 'ShoppingMall', 'Spa', 'VRDeck'])\n",
    "vip_df['VIP'].astype(int)"
   ],
   "id": "93b68685c346b184",
   "outputs": [
    {
     "data": {
      "text/plain": [
       "0        0\n",
       "1        0\n",
       "2        1\n",
       "3        0\n",
       "4        0\n",
       "        ..\n",
       "12965    0\n",
       "12966    0\n",
       "12967    0\n",
       "12968    0\n",
       "12969    0\n",
       "Name: VIP, Length: 11334, dtype: int64"
      ]
     },
     "execution_count": 52,
     "metadata": {},
     "output_type": "execute_result"
    }
   ],
   "execution_count": 52
  },
  {
   "metadata": {
    "ExecuteTime": {
     "end_time": "2025-01-31T09:33:29.639099Z",
     "start_time": "2025-01-31T09:33:29.632955Z"
    }
   },
   "cell_type": "code",
   "source": "vip_df.info()",
   "id": "ba335f366c7adfc",
   "outputs": [
    {
     "name": "stdout",
     "output_type": "stream",
     "text": [
      "<class 'pandas.core.frame.DataFrame'>\n",
      "Index: 11334 entries, 0 to 12969\n",
      "Data columns (total 13 columns):\n",
      " #   Column        Non-Null Count  Dtype  \n",
      "---  ------        --------------  -----  \n",
      " 0   PassengerId   11334 non-null  object \n",
      " 1   HomePlanet    11080 non-null  object \n",
      " 2   CryoSleep     11061 non-null  object \n",
      " 3   Cabin         11070 non-null  object \n",
      " 4   Destination   11097 non-null  object \n",
      " 5   Age           11096 non-null  float64\n",
      " 6   VIP           11334 non-null  object \n",
      " 7   RoomService   11334 non-null  float64\n",
      " 8   FoodCourt     11334 non-null  float64\n",
      " 9   ShoppingMall  11334 non-null  float64\n",
      " 10  Spa           11334 non-null  float64\n",
      " 11  VRDeck        11334 non-null  float64\n",
      " 12  Name          11075 non-null  object \n",
      "dtypes: float64(6), object(7)\n",
      "memory usage: 1.2+ MB\n"
     ]
    }
   ],
   "execution_count": 53
  },
  {
   "metadata": {
    "ExecuteTime": {
     "end_time": "2025-01-31T09:33:30.389405Z",
     "start_time": "2025-01-31T09:33:30.250570Z"
    }
   },
   "cell_type": "code",
   "source": [
    "vip_numeric = vip_df[['VIP', 'RoomService', 'FoodCourt', 'ShoppingMall', 'Spa', 'VRDeck']].copy()\n",
    "\n",
    "corr_matrix = vip_numeric.corr()\n",
    "\n",
    "plt.figure(figsize=(12,8))\n",
    "sns.heatmap(corr_matrix, annot=True, cmap='coolwarm', vmin=-1, vmax=1)\n",
    "plt.show"
   ],
   "id": "d07fa521c07adfb5",
   "outputs": [
    {
     "data": {
      "text/plain": [
       "<function matplotlib.pyplot.show(close=None, block=None)>"
      ]
     },
     "execution_count": 54,
     "metadata": {},
     "output_type": "execute_result"
    },
    {
     "data": {
      "text/plain": [
       "<Figure size 1200x800 with 2 Axes>"
      ],
      "image/png": "[encoded data removed]"
     },
     "metadata": {},
     "output_type": "display_data"
    }
   ],
   "execution_count": 54
  },
  {
   "metadata": {
    "ExecuteTime": {
     "end_time": "2025-01-31T09:33:31.444454Z",
     "start_time": "2025-01-31T09:33:31.443105Z"
    }
   },
   "cell_type": "code",
   "source": "",
   "id": "e66f328b395d7cf6",
   "outputs": [],
   "execution_count": null
  },
  {
   "metadata": {
    "ExecuteTime": {
     "end_time": "2025-01-31T09:33:32.098821Z",
     "start_time": "2025-01-31T09:33:32.078769Z"
    }
   },
   "cell_type": "code",
   "source": [
    "from sklearn.feature_selection import mutual_info_classif\n",
    "\n",
    "X = vip_df[['RoomService', 'FoodCourt', 'ShoppingMall', 'Spa', 'VRDeck']]\n",
    "y = vip_df['VIP']\n",
    "\n",
    "mi_scores = mutual_info_classif(X, y, discrete_features=False)\n",
    "mi_df = pd.DataFrame({'Feature': X.columns, 'MI Score': mi_scores})\n",
    "mi_df = mi_df.sort_values(by=\"MI Score\", ascending=False)\n",
    "print(mi_df)"
   ],
   "id": "f428263f9dfdb62b",
   "outputs": [
    {
     "ename": "ValueError",
     "evalue": "Unknown label type: unknown. Maybe you are trying to fit a classifier, which expects discrete classes on a regression target with continuous values.",
     "output_type": "error",
     "traceback": [
      "\u001B[0;31m---------------------------------------------------------------------------\u001B[0m",
      "\u001B[0;31mValueError\u001B[0m                                Traceback (most recent call last)",
      "Cell \u001B[0;32mIn[55], line 6\u001B[0m\n\u001B[1;32m      3\u001B[0m X \u001B[38;5;241m=\u001B[39m vip_df[[\u001B[38;5;124m'\u001B[39m\u001B[38;5;124mRoomService\u001B[39m\u001B[38;5;124m'\u001B[39m, \u001B[38;5;124m'\u001B[39m\u001B[38;5;124mFoodCourt\u001B[39m\u001B[38;5;124m'\u001B[39m, \u001B[38;5;124m'\u001B[39m\u001B[38;5;124mShoppingMall\u001B[39m\u001B[38;5;124m'\u001B[39m, \u001B[38;5;124m'\u001B[39m\u001B[38;5;124mSpa\u001B[39m\u001B[38;5;124m'\u001B[39m, \u001B[38;5;124m'\u001B[39m\u001B[38;5;124mVRDeck\u001B[39m\u001B[38;5;124m'\u001B[39m]]\n\u001B[1;32m      4\u001B[0m y \u001B[38;5;241m=\u001B[39m vip_df[\u001B[38;5;124m'\u001B[39m\u001B[38;5;124mVIP\u001B[39m\u001B[38;5;124m'\u001B[39m]\n\u001B[0;32m----> 6\u001B[0m mi_scores \u001B[38;5;241m=\u001B[39m \u001B[43mmutual_info_classif\u001B[49m\u001B[43m(\u001B[49m\u001B[43mX\u001B[49m\u001B[43m,\u001B[49m\u001B[43m \u001B[49m\u001B[43my\u001B[49m\u001B[43m,\u001B[49m\u001B[43m \u001B[49m\u001B[43mdiscrete_features\u001B[49m\u001B[38;5;241;43m=\u001B[39;49m\u001B[38;5;28;43;01mFalse\u001B[39;49;00m\u001B[43m)\u001B[49m\n\u001B[1;32m      7\u001B[0m mi_df \u001B[38;5;241m=\u001B[39m pd\u001B[38;5;241m.\u001B[39mDataFrame({\u001B[38;5;124m'\u001B[39m\u001B[38;5;124mFeature\u001B[39m\u001B[38;5;124m'\u001B[39m: X\u001B[38;5;241m.\u001B[39mcolumns, \u001B[38;5;124m'\u001B[39m\u001B[38;5;124mMI Score\u001B[39m\u001B[38;5;124m'\u001B[39m: mi_scores})\n\u001B[1;32m      8\u001B[0m mi_df \u001B[38;5;241m=\u001B[39m mi_df\u001B[38;5;241m.\u001B[39msort_values(by\u001B[38;5;241m=\u001B[39m\u001B[38;5;124m\"\u001B[39m\u001B[38;5;124mMI Score\u001B[39m\u001B[38;5;124m\"\u001B[39m, ascending\u001B[38;5;241m=\u001B[39m\u001B[38;5;28;01mFalse\u001B[39;00m)\n",
      "File \u001B[0;32m~/Coding/Python/test/tensor/lib/python3.11/site-packages/sklearn/utils/_param_validation.py:213\u001B[0m, in \u001B[0;36mvalidate_params.<locals>.decorator.<locals>.wrapper\u001B[0;34m(*args, **kwargs)\u001B[0m\n\u001B[1;32m    207\u001B[0m \u001B[38;5;28;01mtry\u001B[39;00m:\n\u001B[1;32m    208\u001B[0m     \u001B[38;5;28;01mwith\u001B[39;00m config_context(\n\u001B[1;32m    209\u001B[0m         skip_parameter_validation\u001B[38;5;241m=\u001B[39m(\n\u001B[1;32m    210\u001B[0m             prefer_skip_nested_validation \u001B[38;5;129;01mor\u001B[39;00m global_skip_validation\n\u001B[1;32m    211\u001B[0m         )\n\u001B[1;32m    212\u001B[0m     ):\n\u001B[0;32m--> 213\u001B[0m         \u001B[38;5;28;01mreturn\u001B[39;00m \u001B[43mfunc\u001B[49m\u001B[43m(\u001B[49m\u001B[38;5;241;43m*\u001B[39;49m\u001B[43margs\u001B[49m\u001B[43m,\u001B[49m\u001B[43m \u001B[49m\u001B[38;5;241;43m*\u001B[39;49m\u001B[38;5;241;43m*\u001B[39;49m\u001B[43mkwargs\u001B[49m\u001B[43m)\u001B[49m\n\u001B[1;32m    214\u001B[0m \u001B[38;5;28;01mexcept\u001B[39;00m InvalidParameterError \u001B[38;5;28;01mas\u001B[39;00m e:\n\u001B[1;32m    215\u001B[0m     \u001B[38;5;66;03m# When the function is just a wrapper around an estimator, we allow\u001B[39;00m\n\u001B[1;32m    216\u001B[0m     \u001B[38;5;66;03m# the function to delegate validation to the estimator, but we replace\u001B[39;00m\n\u001B[1;32m    217\u001B[0m     \u001B[38;5;66;03m# the name of the estimator by the name of the function in the error\u001B[39;00m\n\u001B[1;32m    218\u001B[0m     \u001B[38;5;66;03m# message to avoid confusion.\u001B[39;00m\n\u001B[1;32m    219\u001B[0m     msg \u001B[38;5;241m=\u001B[39m re\u001B[38;5;241m.\u001B[39msub(\n\u001B[1;32m    220\u001B[0m         \u001B[38;5;124mr\u001B[39m\u001B[38;5;124m\"\u001B[39m\u001B[38;5;124mparameter of \u001B[39m\u001B[38;5;124m\\\u001B[39m\u001B[38;5;124mw+ must be\u001B[39m\u001B[38;5;124m\"\u001B[39m,\n\u001B[1;32m    221\u001B[0m         \u001B[38;5;124mf\u001B[39m\u001B[38;5;124m\"\u001B[39m\u001B[38;5;124mparameter of \u001B[39m\u001B[38;5;132;01m{\u001B[39;00mfunc\u001B[38;5;241m.\u001B[39m\u001B[38;5;18m__qualname__\u001B[39m\u001B[38;5;132;01m}\u001B[39;00m\u001B[38;5;124m must be\u001B[39m\u001B[38;5;124m\"\u001B[39m,\n\u001B[1;32m    222\u001B[0m         \u001B[38;5;28mstr\u001B[39m(e),\n\u001B[1;32m    223\u001B[0m     )\n",
      "File \u001B[0;32m~/Coding/Python/test/tensor/lib/python3.11/site-packages/sklearn/feature_selection/_mutual_info.py:570\u001B[0m, in \u001B[0;36mmutual_info_classif\u001B[0;34m(X, y, discrete_features, n_neighbors, copy, random_state, n_jobs)\u001B[0m\n\u001B[1;32m    453\u001B[0m \u001B[38;5;129m@validate_params\u001B[39m(\n\u001B[1;32m    454\u001B[0m     {\n\u001B[1;32m    455\u001B[0m         \u001B[38;5;124m\"\u001B[39m\u001B[38;5;124mX\u001B[39m\u001B[38;5;124m\"\u001B[39m: [\u001B[38;5;124m\"\u001B[39m\u001B[38;5;124marray-like\u001B[39m\u001B[38;5;124m\"\u001B[39m, \u001B[38;5;124m\"\u001B[39m\u001B[38;5;124msparse matrix\u001B[39m\u001B[38;5;124m\"\u001B[39m],\n\u001B[0;32m   (...)\u001B[0m\n\u001B[1;32m    473\u001B[0m     n_jobs\u001B[38;5;241m=\u001B[39m\u001B[38;5;28;01mNone\u001B[39;00m,\n\u001B[1;32m    474\u001B[0m ):\n\u001B[1;32m    475\u001B[0m \u001B[38;5;250m    \u001B[39m\u001B[38;5;124;03m\"\"\"Estimate mutual information for a discrete target variable.\u001B[39;00m\n\u001B[1;32m    476\u001B[0m \n\u001B[1;32m    477\u001B[0m \u001B[38;5;124;03m    Mutual information (MI) [1]_ between two random variables is a non-negative\u001B[39;00m\n\u001B[0;32m   (...)\u001B[0m\n\u001B[1;32m    568\u001B[0m \u001B[38;5;124;03m           0.     , 0.     , 0.     , 0.      , 0.        ])\u001B[39;00m\n\u001B[1;32m    569\u001B[0m \u001B[38;5;124;03m    \"\"\"\u001B[39;00m\n\u001B[0;32m--> 570\u001B[0m     \u001B[43mcheck_classification_targets\u001B[49m\u001B[43m(\u001B[49m\u001B[43my\u001B[49m\u001B[43m)\u001B[49m\n\u001B[1;32m    571\u001B[0m     \u001B[38;5;28;01mreturn\u001B[39;00m _estimate_mi(\n\u001B[1;32m    572\u001B[0m         X,\n\u001B[1;32m    573\u001B[0m         y,\n\u001B[0;32m   (...)\u001B[0m\n\u001B[1;32m    579\u001B[0m         n_jobs\u001B[38;5;241m=\u001B[39mn_jobs,\n\u001B[1;32m    580\u001B[0m     )\n",
      "File \u001B[0;32m~/Coding/Python/test/tensor/lib/python3.11/site-packages/sklearn/utils/multiclass.py:219\u001B[0m, in \u001B[0;36mcheck_classification_targets\u001B[0;34m(y)\u001B[0m\n\u001B[1;32m    211\u001B[0m y_type \u001B[38;5;241m=\u001B[39m type_of_target(y, input_name\u001B[38;5;241m=\u001B[39m\u001B[38;5;124m\"\u001B[39m\u001B[38;5;124my\u001B[39m\u001B[38;5;124m\"\u001B[39m)\n\u001B[1;32m    212\u001B[0m \u001B[38;5;28;01mif\u001B[39;00m y_type \u001B[38;5;129;01mnot\u001B[39;00m \u001B[38;5;129;01min\u001B[39;00m [\n\u001B[1;32m    213\u001B[0m     \u001B[38;5;124m\"\u001B[39m\u001B[38;5;124mbinary\u001B[39m\u001B[38;5;124m\"\u001B[39m,\n\u001B[1;32m    214\u001B[0m     \u001B[38;5;124m\"\u001B[39m\u001B[38;5;124mmulticlass\u001B[39m\u001B[38;5;124m\"\u001B[39m,\n\u001B[0;32m   (...)\u001B[0m\n\u001B[1;32m    217\u001B[0m     \u001B[38;5;124m\"\u001B[39m\u001B[38;5;124mmultilabel-sequences\u001B[39m\u001B[38;5;124m\"\u001B[39m,\n\u001B[1;32m    218\u001B[0m ]:\n\u001B[0;32m--> 219\u001B[0m     \u001B[38;5;28;01mraise\u001B[39;00m \u001B[38;5;167;01mValueError\u001B[39;00m(\n\u001B[1;32m    220\u001B[0m         \u001B[38;5;124mf\u001B[39m\u001B[38;5;124m\"\u001B[39m\u001B[38;5;124mUnknown label type: \u001B[39m\u001B[38;5;132;01m{\u001B[39;00my_type\u001B[38;5;132;01m}\u001B[39;00m\u001B[38;5;124m. Maybe you are trying to fit a \u001B[39m\u001B[38;5;124m\"\u001B[39m\n\u001B[1;32m    221\u001B[0m         \u001B[38;5;124m\"\u001B[39m\u001B[38;5;124mclassifier, which expects discrete classes on a \u001B[39m\u001B[38;5;124m\"\u001B[39m\n\u001B[1;32m    222\u001B[0m         \u001B[38;5;124m\"\u001B[39m\u001B[38;5;124mregression target with continuous values.\u001B[39m\u001B[38;5;124m\"\u001B[39m\n\u001B[1;32m    223\u001B[0m     )\n",
      "\u001B[0;31mValueError\u001B[0m: Unknown label type: unknown. Maybe you are trying to fit a classifier, which expects discrete classes on a regression target with continuous values."
     ]
    }
   ],
   "execution_count": 55
  },
  {
   "metadata": {},
   "cell_type": "markdown",
   "source": "There's almost no corr between the amount the passengers has billed at each of the: RoomService, FoodCourt, ShoppingMall, Spa, VRDeck",
   "id": "f2c0ecc87aecb898"
  },
  {
   "metadata": {
    "ExecuteTime": {
     "end_time": "2025-01-31T09:33:33.401512Z",
     "start_time": "2025-01-31T09:33:33.392938Z"
    }
   },
   "cell_type": "code",
   "source": [
    "columns_to_fill = ['RoomService', 'FoodCourt', 'ShoppingMall', 'Spa', 'VRDeck']\n",
    "df_combined.loc[df_combined['CryoSleep'] == True, columns_to_fill] = df_combined.loc[df_combined['CryoSleep'] == True, columns_to_fill].fillna(0)\n",
    "df_combined.loc[:, columns_to_fill] = df_combined.loc[:, columns_to_fill].fillna(df_combined[columns_to_fill].median())"
   ],
   "id": "cd128de2ad261aa9",
   "outputs": [],
   "execution_count": 56
  },
  {
   "metadata": {
    "ExecuteTime": {
     "end_time": "2025-01-31T09:33:34.015165Z",
     "start_time": "2025-01-31T09:33:34.012677Z"
    }
   },
   "cell_type": "code",
   "source": "df_combined['SumSpend'] = df_combined['RoomService'] + df_combined['FoodCourt'] + df_combined['ShoppingMall'] + df_combined['Spa'] + df_combined['VRDeck']",
   "id": "2f28317b54416114",
   "outputs": [],
   "execution_count": 57
  },
  {
   "metadata": {
    "ExecuteTime": {
     "end_time": "2025-01-31T09:33:34.617198Z",
     "start_time": "2025-01-31T09:33:34.611683Z"
    }
   },
   "cell_type": "code",
   "source": [
    "df_combined.loc[(df_combined['SumSpend'] > 0) & (df_combined['CryoSleep'].isnull()), 'CryoSleep'] = False\n",
    "df_combined.loc[(df_combined['SumSpend'] == 0) & (df_combined['CryoSleep'].isnull()), 'CryoSleep'] = True\n",
    "df_combined = df_combined.drop(['VIP'], axis=1)"
   ],
   "id": "52ca11b535bdd734",
   "outputs": [],
   "execution_count": 58
  },
  {
   "metadata": {
    "ExecuteTime": {
     "end_time": "2025-01-31T09:33:35.237267Z",
     "start_time": "2025-01-31T09:33:35.233856Z"
    }
   },
   "cell_type": "code",
   "source": [
    "df_combined['Age'] = df_combined['Age'].fillna(0)\n",
    "mode_value = df_combined['Destination'].mode()[0]\n",
    "df_combined['Destination'] = df_combined['Destination'].fillna(mode_value)"
   ],
   "id": "af42bafd180c55ae",
   "outputs": [],
   "execution_count": 59
  },
  {
   "metadata": {
    "ExecuteTime": {
     "end_time": "2025-01-31T09:33:35.895912Z",
     "start_time": "2025-01-31T09:33:35.893323Z"
    }
   },
   "cell_type": "code",
   "source": "df_combined['HomePlanet'] = df_combined['HomePlanet'].fillna('None')",
   "id": "617230a8ffc3865",
   "outputs": [],
   "execution_count": 60
  },
  {
   "metadata": {
    "ExecuteTime": {
     "end_time": "2025-01-31T09:33:36.604899Z",
     "start_time": "2025-01-31T09:33:36.601010Z"
    }
   },
   "cell_type": "code",
   "source": "df_combined['PassengerGroup'] = df_combined['PassengerId'].str.strip('_')[0]",
   "id": "b9092f656a7d2f53",
   "outputs": [],
   "execution_count": 61
  },
  {
   "metadata": {
    "ExecuteTime": {
     "end_time": "2025-01-31T09:33:37.457262Z",
     "start_time": "2025-01-31T09:33:37.451911Z"
    }
   },
   "cell_type": "code",
   "source": "df_combined['Cabin'] = df_combined.groupby('PassengerGroup')['Cabin'].transform(lambda x: x.fillna(method='ffill').fillna(method='bfill'))",
   "id": "8e74b5fe79b26918",
   "outputs": [
    {
     "name": "stderr",
     "output_type": "stream",
     "text": [
      "/tmp/ipykernel_19135/3888904175.py:1: FutureWarning: Series.fillna with 'method' is deprecated and will raise in a future version. Use obj.ffill() or obj.bfill() instead.\n",
      "  df_combined['Cabin'] = df_combined.groupby('PassengerGroup')['Cabin'].transform(lambda x: x.fillna(method='ffill').fillna(method='bfill'))\n"
     ]
    }
   ],
   "execution_count": 62
  },
  {
   "metadata": {
    "ExecuteTime": {
     "end_time": "2025-01-31T09:33:38.136664Z",
     "start_time": "2025-01-31T09:33:38.133741Z"
    }
   },
   "cell_type": "code",
   "source": "df_combined = df_combined.drop(['Name'], axis=1)",
   "id": "57a24c8a5840ab0d",
   "outputs": [],
   "execution_count": 63
  },
  {
   "metadata": {
    "ExecuteTime": {
     "end_time": "2025-01-31T09:34:34.938858Z",
     "start_time": "2025-01-31T09:34:34.932234Z"
    }
   },
   "cell_type": "code",
   "source": "df_combined['CabinNum'] = df_combined['Cabin'].str.split('/').str[1].astype(int)",
   "id": "809587b56195900d",
   "outputs": [],
   "execution_count": 67
  },
  {
   "metadata": {
    "ExecuteTime": {
     "end_time": "2025-01-31T09:34:35.907524Z",
     "start_time": "2025-01-31T09:34:35.894959Z"
    }
   },
   "cell_type": "code",
   "source": "df_combined.describe()",
   "id": "4d39bb13035aea75",
   "outputs": [
    {
     "data": {
      "text/plain": [
       "                Age   RoomService     FoodCourt  ShoppingMall           Spa  \\\n",
       "count  12970.000000  12970.000000  12970.000000  12970.000000  12970.000000   \n",
       "mean      28.173015    218.378026    441.890979    170.779491    301.722282   \n",
       "std       14.817542    641.766201   1568.038076    584.153630   1118.746785   \n",
       "min        0.000000      0.000000      0.000000      0.000000      0.000000   \n",
       "25%       19.000000      0.000000      0.000000      0.000000      0.000000   \n",
       "50%       26.000000      0.000000      0.000000      0.000000      0.000000   \n",
       "75%       37.000000     42.750000     62.750000     23.000000     50.000000   \n",
       "max       79.000000  14327.000000  29813.000000  23492.000000  22408.000000   \n",
       "\n",
       "             VRDeck      SumSpend      CabinNum  \n",
       "count  12970.000000  12970.000000  12970.000000  \n",
       "mean     300.450270   1433.221049    603.123593  \n",
       "std     1168.655639   2807.369708    513.119696  \n",
       "min        0.000000      0.000000      0.000000  \n",
       "25%        0.000000      0.000000    169.000000  \n",
       "50%        0.000000    716.000000    431.000000  \n",
       "75%       36.000000   1442.000000   1008.000000  \n",
       "max    24133.000000  35987.000000   1894.000000  "
      ],
      "text/html": [
       "<div>\n",
       "<style scoped>\n",
       "    .dataframe tbody tr th:only-of-type {\n",
       "        vertical-align: middle;\n",
       "    }\n",
       "\n",
       "    .dataframe tbody tr th {\n",
       "        vertical-align: top;\n",
       "    }\n",
       "\n",
       "    .dataframe thead th {\n",
       "        text-align: right;\n",
       "    }\n",
       "</style>\n",
       "<table border=\"1\" class=\"dataframe\">\n",
       "  <thead>\n",
       "    <tr style=\"text-align: right;\">\n",
       "      <th></th>\n",
       "      <th>Age</th>\n",
       "      <th>RoomService</th>\n",
       "      <th>FoodCourt</th>\n",
       "      <th>ShoppingMall</th>\n",
       "      <th>Spa</th>\n",
       "      <th>VRDeck</th>\n",
       "      <th>SumSpend</th>\n",
       "      <th>CabinNum</th>\n",
       "    </tr>\n",
       "  </thead>\n",
       "  <tbody>\n",
       "    <tr>\n",
       "      <th>count</th>\n",
       "      <td>12970.000000</td>\n",
       "      <td>12970.000000</td>\n",
       "      <td>12970.000000</td>\n",
       "      <td>12970.000000</td>\n",
       "      <td>12970.000000</td>\n",
       "      <td>12970.000000</td>\n",
       "      <td>12970.000000</td>\n",
       "      <td>12970.000000</td>\n",
       "    </tr>\n",
       "    <tr>\n",
       "      <th>mean</th>\n",
       "      <td>28.173015</td>\n",
       "      <td>218.378026</td>\n",
       "      <td>441.890979</td>\n",
       "      <td>170.779491</td>\n",
       "      <td>301.722282</td>\n",
       "      <td>300.450270</td>\n",
       "      <td>1433.221049</td>\n",
       "      <td>603.123593</td>\n",
       "    </tr>\n",
       "    <tr>\n",
       "      <th>std</th>\n",
       "      <td>14.817542</td>\n",
       "      <td>641.766201</td>\n",
       "      <td>1568.038076</td>\n",
       "      <td>584.153630</td>\n",
       "      <td>1118.746785</td>\n",
       "      <td>1168.655639</td>\n",
       "      <td>2807.369708</td>\n",
       "      <td>513.119696</td>\n",
       "    </tr>\n",
       "    <tr>\n",
       "      <th>min</th>\n",
       "      <td>0.000000</td>\n",
       "      <td>0.000000</td>\n",
       "      <td>0.000000</td>\n",
       "      <td>0.000000</td>\n",
       "      <td>0.000000</td>\n",
       "      <td>0.000000</td>\n",
       "      <td>0.000000</td>\n",
       "      <td>0.000000</td>\n",
       "    </tr>\n",
       "    <tr>\n",
       "      <th>25%</th>\n",
       "      <td>19.000000</td>\n",
       "      <td>0.000000</td>\n",
       "      <td>0.000000</td>\n",
       "      <td>0.000000</td>\n",
       "      <td>0.000000</td>\n",
       "      <td>0.000000</td>\n",
       "      <td>0.000000</td>\n",
       "      <td>169.000000</td>\n",
       "    </tr>\n",
       "    <tr>\n",
       "      <th>50%</th>\n",
       "      <td>26.000000</td>\n",
       "      <td>0.000000</td>\n",
       "      <td>0.000000</td>\n",
       "      <td>0.000000</td>\n",
       "      <td>0.000000</td>\n",
       "      <td>0.000000</td>\n",
       "      <td>716.000000</td>\n",
       "      <td>431.000000</td>\n",
       "    </tr>\n",
       "    <tr>\n",
       "      <th>75%</th>\n",
       "      <td>37.000000</td>\n",
       "      <td>42.750000</td>\n",
       "      <td>62.750000</td>\n",
       "      <td>23.000000</td>\n",
       "      <td>50.000000</td>\n",
       "      <td>36.000000</td>\n",
       "      <td>1442.000000</td>\n",
       "      <td>1008.000000</td>\n",
       "    </tr>\n",
       "    <tr>\n",
       "      <th>max</th>\n",
       "      <td>79.000000</td>\n",
       "      <td>14327.000000</td>\n",
       "      <td>29813.000000</td>\n",
       "      <td>23492.000000</td>\n",
       "      <td>22408.000000</td>\n",
       "      <td>24133.000000</td>\n",
       "      <td>35987.000000</td>\n",
       "      <td>1894.000000</td>\n",
       "    </tr>\n",
       "  </tbody>\n",
       "</table>\n",
       "</div>"
      ]
     },
     "execution_count": 68,
     "metadata": {},
     "output_type": "execute_result"
    }
   ],
   "execution_count": 68
  },
  {
   "metadata": {
    "ExecuteTime": {
     "end_time": "2025-01-31T09:34:13.851368Z",
     "start_time": "2025-01-31T09:34:13.842574Z"
    }
   },
   "cell_type": "code",
   "source": "df_combined.info()",
   "id": "9747be65bdd1c232",
   "outputs": [
    {
     "name": "stdout",
     "output_type": "stream",
     "text": [
      "<class 'pandas.core.frame.DataFrame'>\n",
      "RangeIndex: 12970 entries, 0 to 12969\n",
      "Data columns (total 14 columns):\n",
      " #   Column          Non-Null Count  Dtype  \n",
      "---  ------          --------------  -----  \n",
      " 0   PassengerId     12970 non-null  object \n",
      " 1   HomePlanet      12970 non-null  object \n",
      " 2   CryoSleep       12970 non-null  object \n",
      " 3   Cabin           12970 non-null  object \n",
      " 4   Destination     12970 non-null  object \n",
      " 5   Age             12970 non-null  float64\n",
      " 6   RoomService     12970 non-null  float64\n",
      " 7   FoodCourt       12970 non-null  float64\n",
      " 8   ShoppingMall    12970 non-null  float64\n",
      " 9   Spa             12970 non-null  float64\n",
      " 10  VRDeck          12970 non-null  float64\n",
      " 11  SumSpend        12970 non-null  float64\n",
      " 12  PassengerGroup  12970 non-null  object \n",
      " 13  CabinNum        12970 non-null  object \n",
      "dtypes: float64(7), object(7)\n",
      "memory usage: 1.4+ MB\n"
     ]
    }
   ],
   "execution_count": 66
  },
  {
   "metadata": {
    "ExecuteTime": {
     "end_time": "2025-01-31T10:32:48.903908Z",
     "start_time": "2025-01-31T10:32:48.902012Z"
    }
   },
   "cell_type": "code",
   "source": "df_deck_num = df_train.copy()",
   "id": "34b81b4d156e8136",
   "outputs": [],
   "execution_count": 29
  },
  {
   "metadata": {
    "ExecuteTime": {
     "end_time": "2025-01-31T10:32:49.491768Z",
     "start_time": "2025-01-31T10:32:49.488608Z"
    }
   },
   "cell_type": "code",
   "source": "df_deck_num = df_deck_num.dropna(subset=['Cabin'])",
   "id": "4d9ec372ef619364",
   "outputs": [],
   "execution_count": 30
  },
  {
   "metadata": {
    "ExecuteTime": {
     "end_time": "2025-01-31T10:32:49.985145Z",
     "start_time": "2025-01-31T10:32:49.980252Z"
    }
   },
   "cell_type": "code",
   "source": "df_deck_num.loc[:, 'CabinNum'] = df_deck_num['Cabin'].str.split('/').str.get(1)",
   "id": "b43b42ed6add80",
   "outputs": [],
   "execution_count": 31
  },
  {
   "metadata": {
    "ExecuteTime": {
     "end_time": "2025-01-31T10:32:50.513802Z",
     "start_time": "2025-01-31T10:32:50.507214Z"
    }
   },
   "cell_type": "code",
   "source": [
    "df_deck_num['CabinNum'] = df_deck_num['CabinNum'].astype(int)\n",
    "df_deck_num['Transported'] = df_deck_num['Transported'].astype(int)\n",
    "\n",
    "df_deck_num.info()"
   ],
   "id": "14edefa200e261bc",
   "outputs": [
    {
     "name": "stdout",
     "output_type": "stream",
     "text": [
      "<class 'pandas.core.frame.DataFrame'>\n",
      "Index: 8494 entries, 0 to 8692\n",
      "Data columns (total 15 columns):\n",
      " #   Column        Non-Null Count  Dtype  \n",
      "---  ------        --------------  -----  \n",
      " 0   PassengerId   8494 non-null   object \n",
      " 1   HomePlanet    8299 non-null   object \n",
      " 2   CryoSleep     8284 non-null   object \n",
      " 3   Cabin         8494 non-null   object \n",
      " 4   Destination   8316 non-null   object \n",
      " 5   Age           8319 non-null   float64\n",
      " 6   VIP           8297 non-null   object \n",
      " 7   RoomService   8317 non-null   float64\n",
      " 8   FoodCourt     8316 non-null   float64\n",
      " 9   ShoppingMall  8288 non-null   float64\n",
      " 10  Spa           8313 non-null   float64\n",
      " 11  VRDeck        8310 non-null   float64\n",
      " 12  Name          8296 non-null   object \n",
      " 13  Transported   8494 non-null   int64  \n",
      " 14  CabinNum      8494 non-null   int64  \n",
      "dtypes: float64(6), int64(2), object(7)\n",
      "memory usage: 1.0+ MB\n"
     ]
    }
   ],
   "execution_count": 32
  },
  {
   "metadata": {
    "ExecuteTime": {
     "end_time": "2025-01-31T10:33:30.123019Z",
     "start_time": "2025-01-31T10:33:29.993347Z"
    }
   },
   "cell_type": "code",
   "source": [
    "plt.figure(figsize=(12, 6))\n",
    "sns.histplot(data=df_deck_num, x='CabinNum', hue='Transported', bins=50, multiple=\"stack\", palette={0: \"steelblue\", 1: \"salmon\"})\n",
    "\n",
    "for x in [340, 600, 830,1170, 1510]:\n",
    "    plt.axvline(x, color='black', linewidth=2)\n",
    "\n",
    "plt.xlabel('Cabin Number')\n",
    "plt.ylabel('Count')\n",
    "plt.title('Transported by Cabin Number')\n",
    "\n",
    "plt.show()"
   ],
   "id": "cf76ad71a16385c4",
   "outputs": [
    {
     "data": {
      "text/plain": [
       "<Figure size 1200x600 with 1 Axes>"
      ],
      "image/png": "[encoded data removed]"
     },
     "metadata": {},
     "output_type": "display_data"
    }
   ],
   "execution_count": 40
  },
  {
   "metadata": {},
   "cell_type": "markdown",
   "source": [
    "Might be worth to split cabin number to 4 sets (0:340, 340:600, 600:1510, 1510:inf)\n",
    "\n",
    "\n",
    "If CryoSleep is True missing data in amount spend can be filled with 0, otherwise filled with median of collumn\n",
    "\n",
    "\n",
    "Drop VIP if missing\n",
    "\n",
    "Create sum of the columns with spendings and drop them\n",
    "To add more value to CryoSleep ad the boolean colum indicating if passenger spend some money\n",
    "\n",
    "Make columns with informatino about if passenger is traveling solo or not\n",
    "\n",
    "? Group size col\n",
    "\n",
    "Cabin split to: Deck, Num? , Side\n",
    "\n"
   ],
   "id": "3c010db39ad6238e"
  },
  {
   "metadata": {
    "ExecuteTime": {
     "end_time": "2025-01-31T10:43:10.336813Z",
     "start_time": "2025-01-31T10:43:10.331631Z"
    }
   },
   "cell_type": "code",
   "source": [
    "\n",
    "class FeatureEngineer:\n",
    "    def __init__(self):\n",
    "        self.columns_to_fill = ['RoomService', 'FoodCourt', 'ShoppingMall', 'Spa', 'VRDeck']\n",
    "        self.medians = None\n",
    "        self.destination_mode = None\n",
    "        self.cabin_by_group = None\n",
    "        self.cabin_mode = None\n",
    "        self.age_bins = [0, 18, 40, 60, 100]\n",
    "        self.age_labels = [1, 2, 3, 4]\n",
    "        self.cabin_num_bins = [0, 340, 600, 830,1170, 1510, 3000]\n",
    "        self.cabin_num_labels = [1, 2, 3, 4, 5, 6]\n",
    "\n",
    "    def fit(self, X, y=None):\n",
    "        temp_df = X.copy()\n",
    "\n",
    "        temp_df.loc[temp_df['CryoSleep'] == True, self.columns_to_fill] = 0\n",
    "        self.medians = temp_df[self.columns_to_fill].median()\n",
    "\n",
    "        temp_df['SumSpend'] = temp_df[self.columns_to_fill].sum(axis=1)\n",
    "        temp_df.loc[(temp_df['SumSpend'] > 0) & temp_df['CryoSleep'].isna(), 'CryoSleep'] = False\n",
    "        temp_df.loc[(temp_df['SumSpend'] == 0) & temp_df['CryoSleep'].isna(), 'CryoSleep'] = True\n",
    "\n",
    "        temp_df['Age'] = temp_df['Age'].fillna(0)\n",
    "        self.destination_mode = temp_df['Destination'].mode()[0]\n",
    "        temp_df['HomePlanet'] = temp_df['HomePlanet'].fillna('None')\n",
    "\n",
    "        temp_df['PassengerGroup'] = temp_df['PassengerId'].str.split('_').str[0]\n",
    "        temp_df['Cabin'] = temp_df.groupby('PassengerGroup')['Cabin'].ffill().bfill()\n",
    "        self.cabin_by_group = temp_df.groupby('PassengerGroup')['Cabin'].first().to_dict()\n",
    "        self.cabin_mode = temp_df['Cabin'].mode()[0]\n",
    "\n",
    "        return self\n",
    "\n",
    "    def transform(self, X):\n",
    "        X = X.copy()\n",
    "\n",
    "        X.loc[X['CryoSleep'] == True, self.columns_to_fill] = 0\n",
    "        X[self.columns_to_fill] = X[self.columns_to_fill].fillna(self.medians)\n",
    "\n",
    "        X['SumSpend'] = X[self.columns_to_fill].sum(axis=1)\n",
    "        X['AgeGroup'] = pd.cut(X['Age'], bins=self.age_bins, labels=self.age_labels, right=False).astype(float).fillna(1)\n",
    "        X['PassengerGroup'] = X['PassengerId'].str.split('_').str[0]\n",
    "\n",
    "        X['Cabin'] = X['PassengerGroup'].map(self.cabin_by_group).fillna(self.cabin_mode)\n",
    "        X['Deck'] = X['Cabin'].str.split('/').str[0]\n",
    "        X['CabinNum'] = X['Cabin'].str.split('/').str[1].astype(float)\n",
    "        X['CabinNum'] = pd.cut(X['CabinNum'], bins=self.cabin_num_bins, labels=self.cabin_num_labels, right=False).astype(int)\n",
    "        X['Side'] = X['Cabin'].str.split('/').str[-1]\n",
    "\n",
    "        return X.drop(columns=['Cabin', 'PassengerId', 'Name', 'VIP'], errors='ignore')\n"
   ],
   "id": "678a89121f7b3aad",
   "outputs": [],
   "execution_count": 87
  },
  {
   "metadata": {
    "ExecuteTime": {
     "end_time": "2025-01-31T10:43:11.064467Z",
     "start_time": "2025-01-31T10:43:11.016711Z"
    }
   },
   "cell_type": "code",
   "source": [
    "df_combined_2 = pd.concat([df_train.drop('Transported', axis=1), df_test], ignore_index=True)\n",
    "fe = FeatureEngineer().fit(df_combined_2)\n",
    "df_train_clean = fe.transform(df_train)"
   ],
   "id": "3132f5d275955ca6",
   "outputs": [],
   "execution_count": 88
  },
  {
   "metadata": {
    "ExecuteTime": {
     "end_time": "2025-01-31T10:43:11.506202Z",
     "start_time": "2025-01-31T10:43:11.497708Z"
    }
   },
   "cell_type": "code",
   "source": "df_train_clean",
   "id": "a4408079f8a68cb2",
   "outputs": [
    {
     "data": {
      "text/plain": [
       "     HomePlanet CryoSleep    Destination   Age  RoomService  FoodCourt  \\\n",
       "0        Europa     False    TRAPPIST-1e  39.0          0.0        0.0   \n",
       "1         Earth     False    TRAPPIST-1e  24.0        109.0        9.0   \n",
       "2        Europa     False    TRAPPIST-1e  58.0         43.0     3576.0   \n",
       "3        Europa     False    TRAPPIST-1e  33.0          0.0     1283.0   \n",
       "4         Earth     False    TRAPPIST-1e  16.0        303.0       70.0   \n",
       "...         ...       ...            ...   ...          ...        ...   \n",
       "8688     Europa     False    55 Cancri e  41.0          0.0     6819.0   \n",
       "8689      Earth      True  PSO J318.5-22  18.0          0.0        0.0   \n",
       "8690      Earth     False    TRAPPIST-1e  26.0          0.0        0.0   \n",
       "8691     Europa     False    55 Cancri e  32.0          0.0     1049.0   \n",
       "8692     Europa     False    TRAPPIST-1e  44.0        126.0     4688.0   \n",
       "\n",
       "      ShoppingMall     Spa  VRDeck  Transported  SumSpend  AgeGroup  \\\n",
       "0              0.0     0.0     0.0        False       0.0       2.0   \n",
       "1             25.0   549.0    44.0         True     736.0       2.0   \n",
       "2              0.0  6715.0    49.0        False   10383.0       3.0   \n",
       "3            371.0  3329.0   193.0        False    5176.0       2.0   \n",
       "4            151.0   565.0     2.0         True    1091.0       1.0   \n",
       "...            ...     ...     ...          ...       ...       ...   \n",
       "8688           0.0  1643.0    74.0        False    8536.0       3.0   \n",
       "8689           0.0     0.0     0.0        False       0.0       2.0   \n",
       "8690        1872.0     1.0     0.0         True    1873.0       2.0   \n",
       "8691           0.0   353.0  3235.0        False    4637.0       2.0   \n",
       "8692           0.0     0.0    12.0         True    4826.0       3.0   \n",
       "\n",
       "     PassengerGroup Deck  CabinNum Side  \n",
       "0              0001    B         1    P  \n",
       "1              0002    F         1    S  \n",
       "2              0003    A         1    S  \n",
       "3              0003    A         1    S  \n",
       "4              0004    F         1    S  \n",
       "...             ...  ...       ...  ...  \n",
       "8688           9276    A         1    P  \n",
       "8689           9278    G         5    S  \n",
       "8690           9279    G         5    S  \n",
       "8691           9280    E         3    S  \n",
       "8692           9280    E         3    S  \n",
       "\n",
       "[8693 rows x 16 columns]"
      ],
      "text/html": [
       "<div>\n",
       "<style scoped>\n",
       "    .dataframe tbody tr th:only-of-type {\n",
       "        vertical-align: middle;\n",
       "    }\n",
       "\n",
       "    .dataframe tbody tr th {\n",
       "        vertical-align: top;\n",
       "    }\n",
       "\n",
       "    .dataframe thead th {\n",
       "        text-align: right;\n",
       "    }\n",
       "</style>\n",
       "<table border=\"1\" class=\"dataframe\">\n",
       "  <thead>\n",
       "    <tr style=\"text-align: right;\">\n",
       "      <th></th>\n",
       "      <th>HomePlanet</th>\n",
       "      <th>CryoSleep</th>\n",
       "      <th>Destination</th>\n",
       "      <th>Age</th>\n",
       "      <th>RoomService</th>\n",
       "      <th>FoodCourt</th>\n",
       "      <th>ShoppingMall</th>\n",
       "      <th>Spa</th>\n",
       "      <th>VRDeck</th>\n",
       "      <th>Transported</th>\n",
       "      <th>SumSpend</th>\n",
       "      <th>AgeGroup</th>\n",
       "      <th>PassengerGroup</th>\n",
       "      <th>Deck</th>\n",
       "      <th>CabinNum</th>\n",
       "      <th>Side</th>\n",
       "    </tr>\n",
       "  </thead>\n",
       "  <tbody>\n",
       "    <tr>\n",
       "      <th>0</th>\n",
       "      <td>Europa</td>\n",
       "      <td>False</td>\n",
       "      <td>TRAPPIST-1e</td>\n",
       "      <td>39.0</td>\n",
       "      <td>0.0</td>\n",
       "      <td>0.0</td>\n",
       "      <td>0.0</td>\n",
       "      <td>0.0</td>\n",
       "      <td>0.0</td>\n",
       "      <td>False</td>\n",
       "      <td>0.0</td>\n",
       "      <td>2.0</td>\n",
       "      <td>0001</td>\n",
       "      <td>B</td>\n",
       "      <td>1</td>\n",
       "      <td>P</td>\n",
       "    </tr>\n",
       "    <tr>\n",
       "      <th>1</th>\n",
       "      <td>Earth</td>\n",
       "      <td>False</td>\n",
       "      <td>TRAPPIST-1e</td>\n",
       "      <td>24.0</td>\n",
       "      <td>109.0</td>\n",
       "      <td>9.0</td>\n",
       "      <td>25.0</td>\n",
       "      <td>549.0</td>\n",
       "      <td>44.0</td>\n",
       "      <td>True</td>\n",
       "      <td>736.0</td>\n",
       "      <td>2.0</td>\n",
       "      <td>0002</td>\n",
       "      <td>F</td>\n",
       "      <td>1</td>\n",
       "      <td>S</td>\n",
       "    </tr>\n",
       "    <tr>\n",
       "      <th>2</th>\n",
       "      <td>Europa</td>\n",
       "      <td>False</td>\n",
       "      <td>TRAPPIST-1e</td>\n",
       "      <td>58.0</td>\n",
       "      <td>43.0</td>\n",
       "      <td>3576.0</td>\n",
       "      <td>0.0</td>\n",
       "      <td>6715.0</td>\n",
       "      <td>49.0</td>\n",
       "      <td>False</td>\n",
       "      <td>10383.0</td>\n",
       "      <td>3.0</td>\n",
       "      <td>0003</td>\n",
       "      <td>A</td>\n",
       "      <td>1</td>\n",
       "      <td>S</td>\n",
       "    </tr>\n",
       "    <tr>\n",
       "      <th>3</th>\n",
       "      <td>Europa</td>\n",
       "      <td>False</td>\n",
       "      <td>TRAPPIST-1e</td>\n",
       "      <td>33.0</td>\n",
       "      <td>0.0</td>\n",
       "      <td>1283.0</td>\n",
       "      <td>371.0</td>\n",
       "      <td>3329.0</td>\n",
       "      <td>193.0</td>\n",
       "      <td>False</td>\n",
       "      <td>5176.0</td>\n",
       "      <td>2.0</td>\n",
       "      <td>0003</td>\n",
       "      <td>A</td>\n",
       "      <td>1</td>\n",
       "      <td>S</td>\n",
       "    </tr>\n",
       "    <tr>\n",
       "      <th>4</th>\n",
       "      <td>Earth</td>\n",
       "      <td>False</td>\n",
       "      <td>TRAPPIST-1e</td>\n",
       "      <td>16.0</td>\n",
       "      <td>303.0</td>\n",
       "      <td>70.0</td>\n",
       "      <td>151.0</td>\n",
       "      <td>565.0</td>\n",
       "      <td>2.0</td>\n",
       "      <td>True</td>\n",
       "      <td>1091.0</td>\n",
       "      <td>1.0</td>\n",
       "      <td>0004</td>\n",
       "      <td>F</td>\n",
       "      <td>1</td>\n",
       "      <td>S</td>\n",
       "    </tr>\n",
       "    <tr>\n",
       "      <th>...</th>\n",
       "      <td>...</td>\n",
       "      <td>...</td>\n",
       "      <td>...</td>\n",
       "      <td>...</td>\n",
       "      <td>...</td>\n",
       "      <td>...</td>\n",
       "      <td>...</td>\n",
       "      <td>...</td>\n",
       "      <td>...</td>\n",
       "      <td>...</td>\n",
       "      <td>...</td>\n",
       "      <td>...</td>\n",
       "      <td>...</td>\n",
       "      <td>...</td>\n",
       "      <td>...</td>\n",
       "      <td>...</td>\n",
       "    </tr>\n",
       "    <tr>\n",
       "      <th>8688</th>\n",
       "      <td>Europa</td>\n",
       "      <td>False</td>\n",
       "      <td>55 Cancri e</td>\n",
       "      <td>41.0</td>\n",
       "      <td>0.0</td>\n",
       "      <td>6819.0</td>\n",
       "      <td>0.0</td>\n",
       "      <td>1643.0</td>\n",
       "      <td>74.0</td>\n",
       "      <td>False</td>\n",
       "      <td>8536.0</td>\n",
       "      <td>3.0</td>\n",
       "      <td>9276</td>\n",
       "      <td>A</td>\n",
       "      <td>1</td>\n",
       "      <td>P</td>\n",
       "    </tr>\n",
       "    <tr>\n",
       "      <th>8689</th>\n",
       "      <td>Earth</td>\n",
       "      <td>True</td>\n",
       "      <td>PSO J318.5-22</td>\n",
       "      <td>18.0</td>\n",
       "      <td>0.0</td>\n",
       "      <td>0.0</td>\n",
       "      <td>0.0</td>\n",
       "      <td>0.0</td>\n",
       "      <td>0.0</td>\n",
       "      <td>False</td>\n",
       "      <td>0.0</td>\n",
       "      <td>2.0</td>\n",
       "      <td>9278</td>\n",
       "      <td>G</td>\n",
       "      <td>5</td>\n",
       "      <td>S</td>\n",
       "    </tr>\n",
       "    <tr>\n",
       "      <th>8690</th>\n",
       "      <td>Earth</td>\n",
       "      <td>False</td>\n",
       "      <td>TRAPPIST-1e</td>\n",
       "      <td>26.0</td>\n",
       "      <td>0.0</td>\n",
       "      <td>0.0</td>\n",
       "      <td>1872.0</td>\n",
       "      <td>1.0</td>\n",
       "      <td>0.0</td>\n",
       "      <td>True</td>\n",
       "      <td>1873.0</td>\n",
       "      <td>2.0</td>\n",
       "      <td>9279</td>\n",
       "      <td>G</td>\n",
       "      <td>5</td>\n",
       "      <td>S</td>\n",
       "    </tr>\n",
       "    <tr>\n",
       "      <th>8691</th>\n",
       "      <td>Europa</td>\n",
       "      <td>False</td>\n",
       "      <td>55 Cancri e</td>\n",
       "      <td>32.0</td>\n",
       "      <td>0.0</td>\n",
       "      <td>1049.0</td>\n",
       "      <td>0.0</td>\n",
       "      <td>353.0</td>\n",
       "      <td>3235.0</td>\n",
       "      <td>False</td>\n",
       "      <td>4637.0</td>\n",
       "      <td>2.0</td>\n",
       "      <td>9280</td>\n",
       "      <td>E</td>\n",
       "      <td>3</td>\n",
       "      <td>S</td>\n",
       "    </tr>\n",
       "    <tr>\n",
       "      <th>8692</th>\n",
       "      <td>Europa</td>\n",
       "      <td>False</td>\n",
       "      <td>TRAPPIST-1e</td>\n",
       "      <td>44.0</td>\n",
       "      <td>126.0</td>\n",
       "      <td>4688.0</td>\n",
       "      <td>0.0</td>\n",
       "      <td>0.0</td>\n",
       "      <td>12.0</td>\n",
       "      <td>True</td>\n",
       "      <td>4826.0</td>\n",
       "      <td>3.0</td>\n",
       "      <td>9280</td>\n",
       "      <td>E</td>\n",
       "      <td>3</td>\n",
       "      <td>S</td>\n",
       "    </tr>\n",
       "  </tbody>\n",
       "</table>\n",
       "<p>8693 rows × 16 columns</p>\n",
       "</div>"
      ]
     },
     "execution_count": 89,
     "metadata": {},
     "output_type": "execute_result"
    }
   ],
   "execution_count": 89
  },
  {
   "metadata": {
    "ExecuteTime": {
     "end_time": "2025-01-31T10:43:38.667919Z",
     "start_time": "2025-01-31T10:43:38.665841Z"
    }
   },
   "cell_type": "code",
   "source": [
    "def create_preprocessor():\n",
    "    numerical_features = ['Age', 'AgeGroup', 'SumSpend', 'RoomService', 'FoodCourt', 'ShoppingMall', 'Spa', 'VRDeck', 'CabinNum']\n",
    "    categorical_features = ['HomePlanet', 'Destination', 'Deck', 'Side', 'PassengerGroup']\n",
    "    binary_features = ['CryoSleep']\n",
    "\n",
    "    return ColumnTransformer([\n",
    "        ('num', StandardScaler(), numerical_features),\n",
    "        ('cat', OneHotEncoder(handle_unknown='ignore'), categorical_features),\n",
    "        ('binary', 'passthrough', binary_features)\n",
    "    ])\n"
   ],
   "id": "7d89e63216cfb34d",
   "outputs": [],
   "execution_count": 91
  },
  {
   "metadata": {
    "ExecuteTime": {
     "end_time": "2025-01-31T10:44:34.090976Z",
     "start_time": "2025-01-31T10:44:34.088148Z"
    }
   },
   "cell_type": "code",
   "source": [
    "from sklearn.model_selection import GridSearchCV\n",
    "\n",
    "\n",
    "def build_pipeline(model_type='rf'):\n",
    "    pipeline = Pipeline([\n",
    "        ('feature_engineer', FeatureEngineer()),\n",
    "        ('preprocessor', create_preprocessor()),\n",
    "        ('classifier', None)\n",
    "    ])\n",
    "    model_configs = {\n",
    "        'rf': RandomForestClassifier(\n",
    "            n_estimators=2000,\n",
    "            max_depth=9,\n",
    "            max_features=0.5,\n",
    "            min_samples_split=2,\n",
    "            class_weight='balanced'\n",
    "        ),\n",
    "        'xgb': XGBClassifier(\n",
    "            n_estimators=2000,\n",
    "            max_depth=6,\n",
    "            learning_rate=0.003,\n",
    "            subsample=0.8,\n",
    "            colsample_bytree=0.8,\n",
    "            gamma=0.4,\n",
    "            min_child_weight=3,\n",
    "            reg_alpha=0.5,\n",
    "            reg_lambda=1.5,\n",
    "            eval_metric='logloss',\n",
    "            n_jobs=-1,\n",
    "            random_state=42,\n",
    "            tree_method='hist',\n",
    "            device='cuda',\n",
    "            max_bin=256,\n",
    "            scale_pos_weight=0.9,\n",
    "        )\n",
    "    }\n",
    "\n",
    "    if model_type not in model_configs:\n",
    "        raise ValueError(f\"Invalid model_type. Choose from {list(model_configs.keys())}\")\n",
    "\n",
    "    pipeline.set_params(classifier=model_configs[model_type])\n",
    "\n",
    "    return pipeline"
   ],
   "id": "bc649a47cbeafdd",
   "outputs": [],
   "execution_count": 97
  },
  {
   "metadata": {
    "ExecuteTime": {
     "end_time": "2025-01-31T10:44:34.821380Z",
     "start_time": "2025-01-31T10:44:34.818729Z"
    }
   },
   "cell_type": "code",
   "source": [
    "from sklearn.model_selection import train_test_split\n",
    "\n",
    "def prepare_data(df, is_train=True):\n",
    "    if is_train:\n",
    "        y = df['Transported'].astype(int)\n",
    "        X = df.drop('Transported', axis=1)\n",
    "        return train_test_split(X, y, test_size=0.2, random_state=42)\n",
    "        # return X, y\n",
    "    return df.drop('Transported', axis=1, errors='ignore')\n",
    "\n"
   ],
   "id": "ab77bd4120aee375",
   "outputs": [],
   "execution_count": 98
  },
  {
   "metadata": {
    "ExecuteTime": {
     "end_time": "2025-01-31T10:44:35.493259Z",
     "start_time": "2025-01-31T10:44:35.489932Z"
    }
   },
   "cell_type": "code",
   "source": [
    "from sklearn.metrics import precision_score, accuracy_score\n",
    "\n",
    "\n",
    "def submission(train_df, test_df):\n",
    "    combined = pd.concat([train_df.drop('Transported', axis=1), test_df], axis=0)\n",
    "    FeatureEngineer().fit(combined)\n",
    "\n",
    "    # pipeline = build_pipeline()\n",
    "    X_train, X_val, y_train, y_val = prepare_data(train_df)\n",
    "\n",
    "    # rf_pipeline = build_pipeline(model_type='rf')\n",
    "\n",
    "    xgb_pipeline = build_pipeline(model_type='xgb')\n",
    "\n",
    "    xgb_pipeline.fit(X_train, y_train)\n",
    "\n",
    "    y_val_preds = xgb_pipeline.predict(X_val)\n",
    "\n",
    "    accuracy = accuracy_score(y_val, y_val_preds)\n",
    "    precision = precision_score(y_val, y_val_preds)\n",
    "    recall = recall_score(y_val, y_val_preds)\n",
    "    f1 = f1_score(y_val, y_val_preds)\n",
    "\n",
    "    # test_preds = xgb_pipeline.predict(test_df)\n",
    "\n",
    "    # submission_df = pd.DataFrame({\n",
    "    #     'PassengerId': test_df['PassengerId'],\n",
    "    #     'Transported': test_preds.astype(bool)\n",
    "    #\n",
    "    # })\n",
    "    # submission_df.to_csv('submission.csv', index=False)\n",
    "\n",
    "    # return submission_df\n",
    "    return {\n",
    "        \"acc\": accuracy,\n",
    "        \"precision\": precision,\n",
    "        \"recall\": recall,\n",
    "        \"f1\": f1\n",
    "    }"
   ],
   "id": "2ca28e88f6527b58",
   "outputs": [],
   "execution_count": 99
  },
  {
   "metadata": {
    "ExecuteTime": {
     "end_time": "2025-01-31T10:44:46.043712Z",
     "start_time": "2025-01-31T10:44:36.472913Z"
    }
   },
   "cell_type": "code",
   "source": "submission(train_df=df_train, test_df=df_test)\n",
   "id": "96502e6b8f665223",
   "outputs": [
    {
     "data": {
      "text/plain": [
       "{'acc': 0.7929844738355377,\n",
       " 'precision': np.float64(0.7720588235294118),\n",
       " 'recall': np.float64(0.837129840546697),\n",
       " 'f1': np.float64(0.8032786885245902)}"
      ]
     },
     "execution_count": 100,
     "metadata": {},
     "output_type": "execute_result"
    }
   ],
   "execution_count": 100
  }
 ],
 "metadata": {
  "kernelspec": {
   "display_name": "Python 3",
   "language": "python",
   "name": "python3"
  },
  "language_info": {
   "codemirror_mode": {
    "name": "ipython",
    "version": 2
   },
   "file_extension": ".py",
   "mimetype": "text/x-python",
   "name": "python",
   "nbconvert_exporter": "python",
   "pygments_lexer": "ipython2",
   "version": "2.7.6"
  }
 },
 "nbformat": 4,
 "nbformat_minor": 5
}
